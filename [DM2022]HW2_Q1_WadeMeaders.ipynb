{
  "nbformat": 4,
  "nbformat_minor": 0,
  "metadata": {
    "colab": {
      "provenance": []
    },
    "kernelspec": {
      "name": "python3",
      "display_name": "Python 3"
    },
    "language_info": {
      "name": "python"
    }
  },
  "cells": [
    {
      "cell_type": "code",
      "execution_count": 1,
      "metadata": {
        "id": "_OEo9LStxZye"
      },
      "outputs": [],
      "source": [
        "import pandas as pd\n",
        "import seaborn as sns"
      ]
    },
    {
      "cell_type": "code",
      "source": [
        "from google.colab import files\n",
        "uploaded = files.upload()"
      ],
      "metadata": {
        "colab": {
          "base_uri": "https://localhost:8080/",
          "height": 74
        },
        "id": "LCFM_ZB5xwUl",
        "outputId": "39606acb-19a8-443f-fef2-4c467d598acf"
      },
      "execution_count": 2,
      "outputs": [
        {
          "output_type": "display_data",
          "data": {
            "text/plain": [
              "<IPython.core.display.HTML object>"
            ],
            "text/html": [
              "\n",
              "     <input type=\"file\" id=\"files-95eef773-5e4c-4e43-bd04-e7983bf4e4d3\" name=\"files[]\" multiple disabled\n",
              "        style=\"border:none\" />\n",
              "     <output id=\"result-95eef773-5e4c-4e43-bd04-e7983bf4e4d3\">\n",
              "      Upload widget is only available when the cell has been executed in the\n",
              "      current browser session. Please rerun this cell to enable.\n",
              "      </output>\n",
              "      <script>// Copyright 2017 Google LLC\n",
              "//\n",
              "// Licensed under the Apache License, Version 2.0 (the \"License\");\n",
              "// you may not use this file except in compliance with the License.\n",
              "// You may obtain a copy of the License at\n",
              "//\n",
              "//      http://www.apache.org/licenses/LICENSE-2.0\n",
              "//\n",
              "// Unless required by applicable law or agreed to in writing, software\n",
              "// distributed under the License is distributed on an \"AS IS\" BASIS,\n",
              "// WITHOUT WARRANTIES OR CONDITIONS OF ANY KIND, either express or implied.\n",
              "// See the License for the specific language governing permissions and\n",
              "// limitations under the License.\n",
              "\n",
              "/**\n",
              " * @fileoverview Helpers for google.colab Python module.\n",
              " */\n",
              "(function(scope) {\n",
              "function span(text, styleAttributes = {}) {\n",
              "  const element = document.createElement('span');\n",
              "  element.textContent = text;\n",
              "  for (const key of Object.keys(styleAttributes)) {\n",
              "    element.style[key] = styleAttributes[key];\n",
              "  }\n",
              "  return element;\n",
              "}\n",
              "\n",
              "// Max number of bytes which will be uploaded at a time.\n",
              "const MAX_PAYLOAD_SIZE = 100 * 1024;\n",
              "\n",
              "function _uploadFiles(inputId, outputId) {\n",
              "  const steps = uploadFilesStep(inputId, outputId);\n",
              "  const outputElement = document.getElementById(outputId);\n",
              "  // Cache steps on the outputElement to make it available for the next call\n",
              "  // to uploadFilesContinue from Python.\n",
              "  outputElement.steps = steps;\n",
              "\n",
              "  return _uploadFilesContinue(outputId);\n",
              "}\n",
              "\n",
              "// This is roughly an async generator (not supported in the browser yet),\n",
              "// where there are multiple asynchronous steps and the Python side is going\n",
              "// to poll for completion of each step.\n",
              "// This uses a Promise to block the python side on completion of each step,\n",
              "// then passes the result of the previous step as the input to the next step.\n",
              "function _uploadFilesContinue(outputId) {\n",
              "  const outputElement = document.getElementById(outputId);\n",
              "  const steps = outputElement.steps;\n",
              "\n",
              "  const next = steps.next(outputElement.lastPromiseValue);\n",
              "  return Promise.resolve(next.value.promise).then((value) => {\n",
              "    // Cache the last promise value to make it available to the next\n",
              "    // step of the generator.\n",
              "    outputElement.lastPromiseValue = value;\n",
              "    return next.value.response;\n",
              "  });\n",
              "}\n",
              "\n",
              "/**\n",
              " * Generator function which is called between each async step of the upload\n",
              " * process.\n",
              " * @param {string} inputId Element ID of the input file picker element.\n",
              " * @param {string} outputId Element ID of the output display.\n",
              " * @return {!Iterable<!Object>} Iterable of next steps.\n",
              " */\n",
              "function* uploadFilesStep(inputId, outputId) {\n",
              "  const inputElement = document.getElementById(inputId);\n",
              "  inputElement.disabled = false;\n",
              "\n",
              "  const outputElement = document.getElementById(outputId);\n",
              "  outputElement.innerHTML = '';\n",
              "\n",
              "  const pickedPromise = new Promise((resolve) => {\n",
              "    inputElement.addEventListener('change', (e) => {\n",
              "      resolve(e.target.files);\n",
              "    });\n",
              "  });\n",
              "\n",
              "  const cancel = document.createElement('button');\n",
              "  inputElement.parentElement.appendChild(cancel);\n",
              "  cancel.textContent = 'Cancel upload';\n",
              "  const cancelPromise = new Promise((resolve) => {\n",
              "    cancel.onclick = () => {\n",
              "      resolve(null);\n",
              "    };\n",
              "  });\n",
              "\n",
              "  // Wait for the user to pick the files.\n",
              "  const files = yield {\n",
              "    promise: Promise.race([pickedPromise, cancelPromise]),\n",
              "    response: {\n",
              "      action: 'starting',\n",
              "    }\n",
              "  };\n",
              "\n",
              "  cancel.remove();\n",
              "\n",
              "  // Disable the input element since further picks are not allowed.\n",
              "  inputElement.disabled = true;\n",
              "\n",
              "  if (!files) {\n",
              "    return {\n",
              "      response: {\n",
              "        action: 'complete',\n",
              "      }\n",
              "    };\n",
              "  }\n",
              "\n",
              "  for (const file of files) {\n",
              "    const li = document.createElement('li');\n",
              "    li.append(span(file.name, {fontWeight: 'bold'}));\n",
              "    li.append(span(\n",
              "        `(${file.type || 'n/a'}) - ${file.size} bytes, ` +\n",
              "        `last modified: ${\n",
              "            file.lastModifiedDate ? file.lastModifiedDate.toLocaleDateString() :\n",
              "                                    'n/a'} - `));\n",
              "    const percent = span('0% done');\n",
              "    li.appendChild(percent);\n",
              "\n",
              "    outputElement.appendChild(li);\n",
              "\n",
              "    const fileDataPromise = new Promise((resolve) => {\n",
              "      const reader = new FileReader();\n",
              "      reader.onload = (e) => {\n",
              "        resolve(e.target.result);\n",
              "      };\n",
              "      reader.readAsArrayBuffer(file);\n",
              "    });\n",
              "    // Wait for the data to be ready.\n",
              "    let fileData = yield {\n",
              "      promise: fileDataPromise,\n",
              "      response: {\n",
              "        action: 'continue',\n",
              "      }\n",
              "    };\n",
              "\n",
              "    // Use a chunked sending to avoid message size limits. See b/62115660.\n",
              "    let position = 0;\n",
              "    do {\n",
              "      const length = Math.min(fileData.byteLength - position, MAX_PAYLOAD_SIZE);\n",
              "      const chunk = new Uint8Array(fileData, position, length);\n",
              "      position += length;\n",
              "\n",
              "      const base64 = btoa(String.fromCharCode.apply(null, chunk));\n",
              "      yield {\n",
              "        response: {\n",
              "          action: 'append',\n",
              "          file: file.name,\n",
              "          data: base64,\n",
              "        },\n",
              "      };\n",
              "\n",
              "      let percentDone = fileData.byteLength === 0 ?\n",
              "          100 :\n",
              "          Math.round((position / fileData.byteLength) * 100);\n",
              "      percent.textContent = `${percentDone}% done`;\n",
              "\n",
              "    } while (position < fileData.byteLength);\n",
              "  }\n",
              "\n",
              "  // All done.\n",
              "  yield {\n",
              "    response: {\n",
              "      action: 'complete',\n",
              "    }\n",
              "  };\n",
              "}\n",
              "\n",
              "scope.google = scope.google || {};\n",
              "scope.google.colab = scope.google.colab || {};\n",
              "scope.google.colab._files = {\n",
              "  _uploadFiles,\n",
              "  _uploadFilesContinue,\n",
              "};\n",
              "})(self);\n",
              "</script> "
            ]
          },
          "metadata": {}
        },
        {
          "output_type": "stream",
          "name": "stdout",
          "text": [
            "Saving HW2_Cereals.csv to HW2_Cereals.csv\n"
          ]
        }
      ]
    },
    {
      "cell_type": "code",
      "source": [
        "df = pd.read_csv('HW2_Cereals.csv')\n",
        "\n",
        "print(df)"
      ],
      "metadata": {
        "colab": {
          "base_uri": "https://localhost:8080/"
        },
        "id": "-84Yrjlwx3oY",
        "outputId": "2be04e04-3a4d-4404-ddc9-2e59d3431659"
      },
      "execution_count": 4,
      "outputs": [
        {
          "output_type": "stream",
          "name": "stdout",
          "text": [
            "                         name mfr type  calories  protein  fat  sodium  fiber  \\\n",
            "0                   100%_Bran   N    C        70        4    1     130   10.0   \n",
            "1           100%_Natural_Bran   Q    C       120        3    5      15    2.0   \n",
            "2                    All-Bran   K    C        70        4    1     260    9.0   \n",
            "3   All-Bran_with_Extra_Fiber   K    C        50        4    0     140   14.0   \n",
            "4              Almond_Delight   R    C       110        2    2     200    1.0   \n",
            "..                        ...  ..  ...       ...      ...  ...     ...    ...   \n",
            "72                    Triples   G    C       110        2    1     250    0.0   \n",
            "73                       Trix   G    C       110        1    1     140    0.0   \n",
            "74                 Wheat_Chex   R    C       100        3    1     230    3.0   \n",
            "75                   Wheaties   G    C       100        3    1     200    3.0   \n",
            "76        Wheaties_Honey_Gold   G    C       110        2    1     200    1.0   \n",
            "\n",
            "    carbo  sugars  potass  vitamins  shelf  weight  cups     rating  \n",
            "0     5.0     6.0   280.0        25      3     1.0  0.33  68.402973  \n",
            "1     8.0     8.0   135.0         0      3     1.0  1.00  33.983679  \n",
            "2     7.0     5.0   320.0        25      3     1.0  0.33  59.425505  \n",
            "3     8.0     0.0   330.0        25      3     1.0  0.50  93.704912  \n",
            "4    14.0     8.0     NaN        25      3     1.0  0.75  34.384843  \n",
            "..    ...     ...     ...       ...    ...     ...   ...        ...  \n",
            "72   21.0     3.0    60.0        25      3     1.0  0.75  39.106174  \n",
            "73   13.0    12.0    25.0        25      2     1.0  1.00  27.753301  \n",
            "74   17.0     3.0   115.0        25      1     1.0  0.67  49.787445  \n",
            "75   17.0     3.0   110.0        25      1     1.0  1.00  51.592193  \n",
            "76   16.0     8.0    60.0        25      1     1.0  0.75  36.187559  \n",
            "\n",
            "[77 rows x 16 columns]\n"
          ]
        }
      ]
    },
    {
      "cell_type": "code",
      "source": [
        "x_var = 'shelf'\n",
        "y_var = 'rating'\n",
        "\n",
        "df.plot.scatter(x=x_var, y=y_var, legend=False)"
      ],
      "metadata": {
        "colab": {
          "base_uri": "https://localhost:8080/",
          "height": 297
        },
        "id": "IwEL0bt5ynP9",
        "outputId": "402e40d2-5e06-48fa-bb3f-394d722c52dc"
      },
      "execution_count": 5,
      "outputs": [
        {
          "output_type": "execute_result",
          "data": {
            "text/plain": [
              "<matplotlib.axes._subplots.AxesSubplot at 0x7f2811369350>"
            ]
          },
          "metadata": {},
          "execution_count": 5
        },
        {
          "output_type": "display_data",
          "data": {
            "text/plain": [
              "<Figure size 432x288 with 1 Axes>"
            ],
            "image/png": "[encoded data removed]"
          },
          "metadata": {
            "needs_background": "light"
          }
        }
      ]
    },
    {
      "cell_type": "code",
      "source": [
        "df4heatmaps = df\n",
        "\n",
        "corr = df4heatmaps.corr()\n",
        "\n",
        "print(corr)\n",
        "\n",
        "sns.heatmap(corr, xticklabels=corr.columns, yticklabels=corr.columns)"
      ],
      "metadata": {
        "colab": {
          "base_uri": "https://localhost:8080/",
          "height": 838
        },
        "id": "G2SgouWMzD46",
        "outputId": "2bd8923f-cd8f-4820-b8b5-71c4cd7fe602"
      },
      "execution_count": 6,
      "outputs": [
        {
          "output_type": "stream",
          "name": "stdout",
          "text": [
            "          calories   protein       fat    sodium     fiber     carbo  \\\n",
            "calories  1.000000  0.019066  0.498610  0.300649 -0.293413  0.257638   \n",
            "protein   0.019066  1.000000  0.208431 -0.054674  0.500330 -0.025012   \n",
            "fat       0.498610  0.208431  1.000000 -0.005407  0.016719 -0.300003   \n",
            "sodium    0.300649 -0.054674 -0.005407  1.000000 -0.070675  0.297687   \n",
            "fiber    -0.293413  0.500330  0.016719 -0.070675  1.000000 -0.380357   \n",
            "carbo     0.257638 -0.025012 -0.300003  0.297687 -0.380357  1.000000   \n",
            "sugars    0.566533 -0.291853  0.302497  0.058866 -0.138760 -0.471184   \n",
            "potass   -0.072063  0.563706  0.200445 -0.042632  0.911528 -0.365003   \n",
            "vitamins  0.265356  0.007335 -0.031156  0.361477 -0.032243  0.219202   \n",
            "shelf     0.097234  0.133865  0.263691 -0.069719  0.297539 -0.192650   \n",
            "weight    0.696091  0.216158  0.214625  0.308576  0.247226  0.138467   \n",
            "cups      0.087200 -0.244469 -0.175892  0.119665 -0.513061  0.367460   \n",
            "rating   -0.689376  0.470618 -0.409284 -0.401295  0.584160  0.088712   \n",
            "\n",
            "            sugars    potass  vitamins     shelf    weight      cups    rating  \n",
            "calories  0.566533 -0.072063  0.265356  0.097234  0.696091  0.087200 -0.689376  \n",
            "protein  -0.291853  0.563706  0.007335  0.133865  0.216158 -0.244469  0.470618  \n",
            "fat       0.302497  0.200445 -0.031156  0.263691  0.214625 -0.175892 -0.409284  \n",
            "sodium    0.058866 -0.042632  0.361477 -0.069719  0.308576  0.119665 -0.401295  \n",
            "fiber    -0.138760  0.911528 -0.032243  0.297539  0.247226 -0.513061  0.584160  \n",
            "carbo    -0.471184 -0.365003  0.219202 -0.192650  0.138467  0.367460  0.088712  \n",
            "sugars    1.000000  0.001414  0.098231  0.068377  0.455844 -0.048961 -0.763902  \n",
            "potass    0.001414  1.000000 -0.005427  0.385784  0.419933 -0.501607  0.416009  \n",
            "vitamins  0.098231 -0.005427  1.000000  0.299262  0.320324  0.128405 -0.240544  \n",
            "shelf     0.068377  0.385784  0.299262  1.000000  0.190762 -0.335269  0.025159  \n",
            "weight    0.455844  0.419933  0.320324  0.190762  1.000000 -0.199583 -0.298124  \n",
            "cups     -0.048961 -0.501607  0.128405 -0.335269 -0.199583  1.000000 -0.203160  \n",
            "rating   -0.763902  0.416009 -0.240544  0.025159 -0.298124 -0.203160  1.000000  \n"
          ]
        },
        {
          "output_type": "execute_result",
          "data": {
            "text/plain": [
              "<matplotlib.axes._subplots.AxesSubplot at 0x7f281123b890>"
            ]
          },
          "metadata": {},
          "execution_count": 6
        },
        {
          "output_type": "display_data",
          "data": {
            "text/plain": [
              "<Figure size 432x288 with 2 Axes>"
            ],
            "image/png": "[encoded data removed]"
          },
          "metadata": {
            "needs_background": "light"
          }
        }
      ]
    }
  ]
}